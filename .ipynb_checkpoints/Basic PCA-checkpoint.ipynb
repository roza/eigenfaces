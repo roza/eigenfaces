{
 "cells": [
  {
   "cell_type": "code",
   "execution_count": 5,
   "metadata": {
    "collapsed": false
   },
   "outputs": [
    {
     "name": "stdout",
     "output_type": "stream",
     "text": [
      "[[ 1.38340578]\n",
      " [ 2.22189802]\n",
      " [ 3.6053038 ]\n",
      " [-1.38340578]\n",
      " [-2.22189802]\n",
      " [-3.6053038 ]]\n",
      "[[ 0.53782682]\n",
      " [ 0.86380754]\n",
      " [ 1.40163435]\n",
      " [-0.53782682]\n",
      " [-0.86380754]\n",
      " [-1.40163435]]\n"
     ]
    }
   ],
   "source": [
    "import numpy as np\n",
    "from sklearn.decomposition import PCA\n",
    "X = np.array([[-1, -1], [-2, -1], [-3, -2], [1, 1], [2, 1], [3, 2]])\n",
    "X_reduced=PCA(n_components=1, whiten=False).fit_transform(X)\n",
    "#PCA(copy=True, iterated_power='auto', n_components=2, random_state=None,\n",
    "#  svd_solver='auto', tol=0.0, whiten=False)\n",
    "#print(pca.explained_variance_ratio_) \n",
    "#PCA(n_components=3).fit_transform(iris.data)\n",
    "print(X_reduced)\n",
    "X_reduced=PCA(n_components=1, whiten=True).fit_transform(X)\n",
    "print(X_reduced)"
   ]
  },
  {
   "cell_type": "code",
   "execution_count": null,
   "metadata": {
    "collapsed": true
   },
   "outputs": [],
   "source": []
  }
 ],
 "metadata": {
  "kernelspec": {
   "display_name": "Python 3",
   "language": "python",
   "name": "python3"
  },
  "language_info": {
   "codemirror_mode": {
    "name": "ipython",
    "version": 3
   },
   "file_extension": ".py",
   "mimetype": "text/x-python",
   "name": "python",
   "nbconvert_exporter": "python",
   "pygments_lexer": "ipython3",
   "version": "3.5.2"
  }
 },
 "nbformat": 4,
 "nbformat_minor": 2
}
