{
 "cells": [
  {
   "cell_type": "code",
   "execution_count": 6,
   "metadata": {
    "collapsed": false
   },
   "outputs": [
    {
     "name": "stdout",
     "output_type": "stream",
     "text": [
      "[[-1.61153188]\n",
      " [-3.41804324]\n",
      " [-3.46623797]\n",
      " [ 2.34721994]\n",
      " [ 3.60196525]\n",
      " [ 2.54662789]]\n",
      "[[-0.551327  ]\n",
      " [-1.16935913]\n",
      " [-1.1858472 ]\n",
      " [ 0.8030159 ]\n",
      " [ 1.23228136]\n",
      " [ 0.87123607]]\n"
     ]
    }
   ],
   "source": [
    "import numpy as np\n",
    "from sklearn.decomposition import PCA\n",
    "X = np.array([[-1, -1,3], [-2, -1, 5], [-3, -2, 3], [1, 1, 0], [2, 1, -1], [3, 2, 3]])\n",
    "X_reduced=PCA(n_components=1, whiten=False).fit_transform(X)\n",
    "#PCA(copy=True, iterated_power='auto', n_components=2, random_state=None,\n",
    "#  svd_solver='auto', tol=0.0, whiten=False)\n",
    "#print(pca.explained_variance_ratio_) \n",
    "#PCA(n_components=3).fit_transform(iris.data)\n",
    "print(X_reduced)\n",
    "X_reduced=PCA(n_components=1, whiten=True).fit_transform(X)\n",
    "print(X_reduced)"
   ]
  },
  {
   "cell_type": "code",
   "execution_count": null,
   "metadata": {
    "collapsed": true
   },
   "outputs": [],
   "source": [
    "lfw_people = fetch_lfw_people(min_faces_per_person=70, resize=0.4)\n",
    "\n",
    "# introspect the images arrays to find the shapes (for plotting)\n",
    "n_samples, h, w = lfw_people.images.shape\n",
    "\n",
    "# for machine learning we use the 2 data directly (as relative pixel\n",
    "# positions info is ignored by this model)\n",
    "X = lfw_people.data\n",
    "print(X.shape)\n",
    "n_features = X.shape[1]\n",
    "\n",
    "# the label to predict is the id of the person\n",
    "y = lfw_people.target\n",
    "target_names = lfw_people.target_names\n",
    "print(y.shape)\n",
    "n_classes = target_names.shape[0]\n",
    "\n",
    "print(\"Total dataset size:\")\n",
    "print(\"n_samples: %d\" % n_samples)\n",
    "print(\"n_features: %d\" % n_features)\n",
    "print(\"n_classes: %d\" % n_classes)\n",
    "print(\"h: %d w:%d\" % (h,w))"
   ]
  }
 ],
 "metadata": {
  "kernelspec": {
   "display_name": "Python 3",
   "language": "python",
   "name": "python3"
  },
  "language_info": {
   "codemirror_mode": {
    "name": "ipython",
    "version": 3
   },
   "file_extension": ".py",
   "mimetype": "text/x-python",
   "name": "python",
   "nbconvert_exporter": "python",
   "pygments_lexer": "ipython3",
   "version": "3.5.2"
  }
 },
 "nbformat": 4,
 "nbformat_minor": 2
}
